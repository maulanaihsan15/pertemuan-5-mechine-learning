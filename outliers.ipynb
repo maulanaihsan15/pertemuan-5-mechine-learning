import pandas as pd
import numpy as np

# Langkah 1: Membuat DataFrame
data = {
    'Name': ['Alice', 'Bob', 'Charlie', 'Alice', 'Eve', np.nan],
    'Age': [25, 30, 35, 25, np.nan, 50],
    'City': ['New York', 'Los Angeles', 'Chicago', 'New York', 'Miami', 'Los Angeles']
}

df = pd.DataFrame(data)

# Langkah 2: Menangani Missing Values
df['Age'].fillna(df['Age'].median(), inplace=True)  # Mengisi missing values dengan median
df['Name'].fillna('Unknown', inplace=True)  # Mengisi missing values pada kolom 'Name'

# Langkah 3: Identifikasi Outliers menggunakan IQR
Q1 = df['Age'].quantile(0.25)
Q3 = df['Age'].quantile(0.75)
IQR = Q3 - Q1

# Menentukan batas bawah dan atas untuk outliers
lower_bound = Q1 - 1.5 * IQR
upper_bound = Q3 + 1.5 * IQR

# Menandai outliers
outliers = df[(df['Age'] < lower_bound) | (df['Age'] > upper_bound)]
print("Outliers:\n", outliers)

# Langkah 4: Menangani Outliers
# Menghitung median yang akan digunakan untuk mengganti outliers
median_age = df['Age'].median()

# Mengganti outliers dengan median
df.loc[(df['Age'] < lower_bound) | (df['Age'] > upper_bound), 'Age'] = median_age

# Menghapus outliers (opsional, tergantung kebutuhan)
df_no_outliers = df[(df['Age'] >= lower_bound) & (df['Age'] <= upper_bound)]

# Menampilkan hasil akhir
print("\nData Setelah Penanganan Outliers:")
print(df)
